{
 "cells": [
  {
   "cell_type": "code",
   "execution_count": 0,
   "metadata": {
    "application/vnd.databricks.v1+cell": {
     "cellMetadata": {
      "byteLimit": 2048000,
      "rowLimit": 10000
     },
     "inputWidgets": {},
     "nuid": "35e882b6-7842-4b47-afa5-1153629bc76e",
     "showTitle": false,
     "title": ""
    }
   },
   "outputs": [],
   "source": [
    "# ingest All Yellow Trip data Files into DBFS Landing location\n",
    "# further ingest from s3 bucket\n"
   ]
  },
  {
   "cell_type": "code",
   "execution_count": 0,
   "metadata": {
    "application/vnd.databricks.v1+cell": {
     "cellMetadata": {
      "byteLimit": 2048000,
      "rowLimit": 10000
     },
     "inputWidgets": {},
     "nuid": "f8c8dbb4-ace1-43e6-8270-e71016cf3992",
     "showTitle": true,
     "title": "Importing common functions"
    }
   },
   "outputs": [],
   "source": [
    "from pyspark.sql.types import *\n",
    "from pyspark.sql.functions import month\n"
   ]
  },
  {
   "cell_type": "code",
   "execution_count": 0,
   "metadata": {
    "application/vnd.databricks.v1+cell": {
     "cellMetadata": {
      "byteLimit": 2048000,
      "rowLimit": 10000
     },
     "inputWidgets": {},
     "nuid": "ad364524-4d0c-438a-801d-f69b9a2a3d3e",
     "showTitle": true,
     "title": "Loading CSV file and Data Filtering"
    }
   },
   "outputs": [],
   "source": [
    "\n",
    "# Define schema for yellow trip data\n",
    "yellowTripSchema = (\n",
    "\n",
    "                StructType\n",
    "                (\n",
    "                    [\t\t\t\t\t\t\t\t\t\t\t\t\t\t\t\n",
    "                        StructField(\"VendorID\",                 IntegerType(), True),\n",
    "                        StructField(\"Pickup_datetime\",          TimestampType(), True),\n",
    "                        StructField(\"Dropoff_datetime\",         TimestampType(), True),\n",
    "                        StructField(\"store_and_fwd_flag\",       TimestampType(), True),\n",
    "                        StructField(\"RatecodeID\",               IntegerType(), True),\n",
    "                        StructField(\"PickupLocationID\",         IntegerType(), True),\n",
    "                        StructField(\"DropLocationID\",           IntegerType(), True),\n",
    "                        StructField(\"Passenger_count\",          IntegerType(), True),\n",
    "                        StructField(\"Trip_distance\",            DoubleType(), True),\n",
    "                        StructField(\"Fare_amount\",              DoubleType(), True),\n",
    "                        StructField(\"extra\",                    DoubleType(), True),\n",
    "                        StructField(\"Mta_tax\",                  DoubleType(), True),\n",
    "                        StructField(\"Tip_amount\",               DoubleType(), True),\n",
    "                        StructField(\"Tolls_amount\",             DoubleType(), True),\n",
    "                        StructField(\"Ehail_fee\",                StringType(), True),\n",
    "                        StructField(\"Improvement_surcharge\",    DoubleType(), True),\n",
    "                        StructField(\"Total_amount\",             DoubleType(), True),\n",
    "                        StructField(\"Payment_type\",             IntegerType(), True),\n",
    "                        StructField(\"Trip_type\",                IntegerType(), True),\n",
    "                        StructField(\"Congestion_surcharge\",     StringType(), True)\n",
    "\n",
    "                    ]\n",
    "                )\n",
    "\n",
    "\n",
    ")\n",
    "\n",
    "# Read yellow trip data for june 2019\n",
    "all_months_df = spark.read.option(\"header\",\"true\").schema(yellowTripSchema).csv(\"dbfs:/FileStore/tables/hemanth/nyctaxidata/landing/yellowdata\")\n",
    "\n",
    "# all_months_df.printSchema()\n",
    "# all_months_df.display()\n",
    "# all_months_df.count()\n",
    "\n",
    "# Filter valid yellow trip records\n",
    "june_month_df = all_months_df.where(month(\"Pickup_datetime\")==6).where(\"Pickup_datetime != Dropoff_datetime\").where(\"Passenger_count != 0\").where(\"Trip_distance != 0\").where(\"Fare_amount != 0\").where(\"Total_amount !=0\")"
   ]
  },
  {
   "cell_type": "code",
   "execution_count": 0,
   "metadata": {
    "application/vnd.databricks.v1+cell": {
     "cellMetadata": {
      "byteLimit": 2048000,
      "rowLimit": 10000
     },
     "inputWidgets": {},
     "nuid": "f1fcd5f5-8101-42a3-8fc4-30b02ff6d172",
     "showTitle": true,
     "title": "Total Trip Count"
    }
   },
   "outputs": [
    {
     "output_type": "display_data",
     "data": {
      "text/html": [
       "<style scoped>\n",
       "  .table-result-container {\n",
       "    max-height: 300px;\n",
       "    overflow: auto;\n",
       "  }\n",
       "  table, th, td {\n",
       "    border: 1px solid black;\n",
       "    border-collapse: collapse;\n",
       "  }\n",
       "  th, td {\n",
       "    padding: 5px;\n",
       "  }\n",
       "  th {\n",
       "    text-align: left;\n",
       "  }\n",
       "</style><div class='table-result-container'><table class='table-result'><thead style='background-color: white'><tr><th>VendorID</th><th>count</th></tr></thead><tbody><tr><td>1</td><td>18078</td></tr><tr><td>4</td><td>168</td></tr><tr><td>2</td><td>31393</td></tr></tbody></table></div>"
      ]
     },
     "metadata": {
      "application/vnd.databricks.v1+output": {
       "addedWidgets": {},
       "aggData": [],
       "aggError": "",
       "aggOverflow": false,
       "aggSchema": [],
       "aggSeriesLimitReached": false,
       "aggType": "",
       "arguments": {},
       "columnCustomDisplayInfos": {},
       "data": [
        [
         1,
         18078
        ],
        [
         4,
         168
        ],
        [
         2,
         31393
        ]
       ],
       "datasetInfos": [],
       "dbfsResultPath": null,
       "isJsonSchema": true,
       "metadata": {},
       "overflow": false,
       "plotOptions": {
        "customPlotOptions": {},
        "displayType": "table",
        "pivotAggregation": null,
        "pivotColumns": null,
        "xColumns": null,
        "yColumns": null
       },
       "removedWidgets": [],
       "schema": [
        {
         "metadata": "{}",
         "name": "VendorID",
         "type": "\"integer\""
        },
        {
         "metadata": "{}",
         "name": "count",
         "type": "\"long\""
        }
       ],
       "type": "table"
      }
     },
     "output_type": "display_data"
    }
   ],
   "source": [
    "# june_month_df.select(\"VendorID\").distinct().display()\n",
    "\n",
    "# Get the total valid trip count of yellow taxi for each Vendor for June\n",
    "vendor_trip_count_df = june_month_df.groupBy(\"VendorID\").count()\n",
    "\n",
    "vendor_trip_count_df.display()"
   ]
  },
  {
   "cell_type": "code",
   "execution_count": 0,
   "metadata": {
    "application/vnd.databricks.v1+cell": {
     "cellMetadata": {
      "byteLimit": 2048000,
      "rowLimit": 10000
     },
     "inputWidgets": {},
     "nuid": "9c8882bc-d0a3-41af-9363-09d66bf384c0",
     "showTitle": true,
     "title": "Total Trip Cost"
    }
   },
   "outputs": [
    {
     "output_type": "display_data",
     "data": {
      "text/html": [
       "<style scoped>\n",
       "  .table-result-container {\n",
       "    max-height: 300px;\n",
       "    overflow: auto;\n",
       "  }\n",
       "  table, th, td {\n",
       "    border: 1px solid black;\n",
       "    border-collapse: collapse;\n",
       "  }\n",
       "  th, td {\n",
       "    padding: 5px;\n",
       "  }\n",
       "  th {\n",
       "    text-align: left;\n",
       "  }\n",
       "</style><div class='table-result-container'><table class='table-result'><thead style='background-color: white'><tr><th>VendorID</th><th>sum(Total_amount)</th></tr></thead><tbody><tr><td>1</td><td>336815.8899999411</td></tr><tr><td>4</td><td>3339.2500000000055</td></tr><tr><td>2</td><td>605676.1299999539</td></tr></tbody></table></div>"
      ]
     },
     "metadata": {
      "application/vnd.databricks.v1+output": {
       "addedWidgets": {},
       "aggData": [],
       "aggError": "",
       "aggOverflow": false,
       "aggSchema": [],
       "aggSeriesLimitReached": false,
       "aggType": "",
       "arguments": {},
       "columnCustomDisplayInfos": {},
       "data": [
        [
         1,
         336815.8899999411
        ],
        [
         4,
         3339.2500000000055
        ],
        [
         2,
         605676.1299999539
        ]
       ],
       "datasetInfos": [],
       "dbfsResultPath": null,
       "isJsonSchema": true,
       "metadata": {},
       "overflow": false,
       "plotOptions": {
        "customPlotOptions": {},
        "displayType": "table",
        "pivotAggregation": null,
        "pivotColumns": null,
        "xColumns": null,
        "yColumns": null
       },
       "removedWidgets": [],
       "schema": [
        {
         "metadata": "{}",
         "name": "VendorID",
         "type": "\"integer\""
        },
        {
         "metadata": "{}",
         "name": "sum(Total_amount)",
         "type": "\"double\""
        }
       ],
       "type": "table"
      }
     },
     "output_type": "display_data"
    }
   ],
   "source": [
    "# Get the total trip cost for each yellow taxi Vendor for June month for all valid trips\n",
    "vendor_trip_cost_df = june_month_df.groupBy(\"VendorID\").sum(\"Total_amount\")\n",
    "\n",
    "vendor_trip_cost_df.display()"
   ]
  },
  {
   "cell_type": "code",
   "execution_count": 0,
   "metadata": {
    "application/vnd.databricks.v1+cell": {
     "cellMetadata": {
      "byteLimit": 2048000,
      "rowLimit": 10000
     },
     "inputWidgets": {},
     "nuid": "2aefc4c0-8a88-49a4-b9ab-88775f3ad7a8",
     "showTitle": true,
     "title": "Passenger Count Report"
    }
   },
   "outputs": [
    {
     "output_type": "display_data",
     "data": {
      "text/html": [
       "<style scoped>\n",
       "  .table-result-container {\n",
       "    max-height: 300px;\n",
       "    overflow: auto;\n",
       "  }\n",
       "  table, th, td {\n",
       "    border: 1px solid black;\n",
       "    border-collapse: collapse;\n",
       "  }\n",
       "  th, td {\n",
       "    padding: 5px;\n",
       "  }\n",
       "  th {\n",
       "    text-align: left;\n",
       "  }\n",
       "</style><div class='table-result-container'><table class='table-result'><thead style='background-color: white'><tr><th>VendorID</th><th>sum(Passenger_count)</th></tr></thead><tbody><tr><td>1</td><td>2734740</td></tr><tr><td>4</td><td>24941</td></tr><tr><td>2</td><td>4712131</td></tr></tbody></table></div>"
      ]
     },
     "metadata": {
      "application/vnd.databricks.v1+output": {
       "addedWidgets": {},
       "aggData": [],
       "aggError": "",
       "aggOverflow": false,
       "aggSchema": [],
       "aggSeriesLimitReached": false,
       "aggType": "",
       "arguments": {},
       "columnCustomDisplayInfos": {},
       "data": [
        [
         1,
         2734740
        ],
        [
         4,
         24941
        ],
        [
         2,
         4712131
        ]
       ],
       "datasetInfos": [],
       "dbfsResultPath": null,
       "isJsonSchema": true,
       "metadata": {},
       "overflow": false,
       "plotOptions": {
        "customPlotOptions": {},
        "displayType": "table",
        "pivotAggregation": null,
        "pivotColumns": null,
        "xColumns": null,
        "yColumns": null
       },
       "removedWidgets": [],
       "schema": [
        {
         "metadata": "{}",
         "name": "VendorID",
         "type": "\"integer\""
        },
        {
         "metadata": "{}",
         "name": "sum(Passenger_count)",
         "type": "\"long\""
        }
       ],
       "type": "table"
      }
     },
     "output_type": "display_data"
    }
   ],
   "source": [
    "# Get the report of total passenger count for each yellow taxi Vendor for June month for all valid trips\n",
    "vendor_passenger_count_df = june_month_df.groupBy(\"VendorID\").sum(\"Passenger_count\")\n",
    "\n",
    "vendor_passenger_count_df.display()"
   ]
  },
  {
   "cell_type": "code",
   "execution_count": 0,
   "metadata": {
    "application/vnd.databricks.v1+cell": {
     "cellMetadata": {
      "byteLimit": 2048000,
      "rowLimit": 10000
     },
     "inputWidgets": {},
     "nuid": "65d1999f-a5f1-4581-9f42-98f785996741",
     "showTitle": true,
     "title": "Total Trip Distance"
    }
   },
   "outputs": [
    {
     "output_type": "display_data",
     "data": {
      "text/html": [
       "<style scoped>\n",
       "  .table-result-container {\n",
       "    max-height: 300px;\n",
       "    overflow: auto;\n",
       "  }\n",
       "  table, th, td {\n",
       "    border: 1px solid black;\n",
       "    border-collapse: collapse;\n",
       "  }\n",
       "  th, td {\n",
       "    padding: 5px;\n",
       "  }\n",
       "  th {\n",
       "    text-align: left;\n",
       "  }\n",
       "</style><div class='table-result-container'><table class='table-result'><thead style='background-color: white'><tr><th>VendorID</th><th>sum(Trip_distance)</th></tr></thead><tbody><tr><td>1</td><td>2695342.0</td></tr><tr><td>4</td><td>23936.0</td></tr><tr><td>2</td><td>4713530.0</td></tr></tbody></table></div>"
      ]
     },
     "metadata": {
      "application/vnd.databricks.v1+output": {
       "addedWidgets": {},
       "aggData": [],
       "aggError": "",
       "aggOverflow": false,
       "aggSchema": [],
       "aggSeriesLimitReached": false,
       "aggType": "",
       "arguments": {},
       "columnCustomDisplayInfos": {},
       "data": [
        [
         1,
         2695342.0
        ],
        [
         4,
         23936.0
        ],
        [
         2,
         4713530.0
        ]
       ],
       "datasetInfos": [],
       "dbfsResultPath": null,
       "isJsonSchema": true,
       "metadata": {},
       "overflow": false,
       "plotOptions": {
        "customPlotOptions": {},
        "displayType": "table",
        "pivotAggregation": null,
        "pivotColumns": null,
        "xColumns": null,
        "yColumns": null
       },
       "removedWidgets": [],
       "schema": [
        {
         "metadata": "{}",
         "name": "VendorID",
         "type": "\"integer\""
        },
        {
         "metadata": "{}",
         "name": "sum(Trip_distance)",
         "type": "\"double\""
        }
       ],
       "type": "table"
      }
     },
     "output_type": "display_data"
    }
   ],
   "source": [
    "# Get the report of total trip distance for each yellow taxi Vendor\n",
    "vendor_trip_distance_df = june_month_df.groupBy(\"VendorID\").sum(\"Trip_distance\")\n",
    "\n",
    "vendor_trip_distance_df.display()"
   ]
  },
  {
   "cell_type": "code",
   "execution_count": 0,
   "metadata": {
    "application/vnd.databricks.v1+cell": {
     "cellMetadata": {
      "byteLimit": 2048000,
      "rowLimit": 10000
     },
     "inputWidgets": {},
     "nuid": "f8e0c8b2-e69a-467c-a28f-6ef70ae76845",
     "showTitle": true,
     "title": "Passenger Count per Day "
    }
   },
   "outputs": [
    {
     "output_type": "display_data",
     "data": {
      "text/html": [
       "<style scoped>\n",
       "  .table-result-container {\n",
       "    max-height: 300px;\n",
       "    overflow: auto;\n",
       "  }\n",
       "  table, th, td {\n",
       "    border: 1px solid black;\n",
       "    border-collapse: collapse;\n",
       "  }\n",
       "  th, td {\n",
       "    padding: 5px;\n",
       "  }\n",
       "  th {\n",
       "    text-align: left;\n",
       "  }\n",
       "</style><div class='table-result-container'><table class='table-result'><thead style='background-color: white'><tr><th>day</th><th>sum(Passenger_count)</th></tr></thead><tbody><tr><td>1</td><td>7471243</td></tr><tr><td>2</td><td>305</td></tr><tr><td>3</td><td>264</td></tr></tbody></table></div>"
      ]
     },
     "metadata": {
      "application/vnd.databricks.v1+output": {
       "addedWidgets": {},
       "aggData": [],
       "aggError": "",
       "aggOverflow": false,
       "aggSchema": [],
       "aggSeriesLimitReached": false,
       "aggType": "",
       "arguments": {},
       "columnCustomDisplayInfos": {},
       "data": [
        [
         1,
         7471243
        ],
        [
         2,
         305
        ],
        [
         3,
         264
        ]
       ],
       "datasetInfos": [],
       "dbfsResultPath": null,
       "isJsonSchema": true,
       "metadata": {},
       "overflow": false,
       "plotOptions": {
        "customPlotOptions": {},
        "displayType": "table",
        "pivotAggregation": null,
        "pivotColumns": null,
        "xColumns": null,
        "yColumns": null
       },
       "removedWidgets": [],
       "schema": [
        {
         "metadata": "{}",
         "name": "day",
         "type": "\"integer\""
        },
        {
         "metadata": "{}",
         "name": "sum(Passenger_count)",
         "type": "\"long\""
        }
       ],
       "type": "table"
      }
     },
     "output_type": "display_data"
    }
   ],
   "source": [
    "# Get the report of total passenger count for each day\n",
    "daily_passenger_count_df = june_month_df.groupBy(dayofmonth(\"Pickup_datetime\").alias(\"day\")).sum(\"Passenger_count\").orderBy(\"day\")\n",
    "\n",
    "daily_passenger_count_df.display()"
   ]
  },
  {
   "cell_type": "code",
   "execution_count": 0,
   "metadata": {
    "application/vnd.databricks.v1+cell": {
     "cellMetadata": {
      "byteLimit": 2048000,
      "rowLimit": 10000
     },
     "inputWidgets": {},
     "nuid": "b6c1298c-5890-4f94-93ef-361d7a945439",
     "showTitle": true,
     "title": "Passenger Count per Vendor per Day "
    }
   },
   "outputs": [
    {
     "output_type": "display_data",
     "data": {
      "text/html": [
       "<style scoped>\n",
       "  .table-result-container {\n",
       "    max-height: 300px;\n",
       "    overflow: auto;\n",
       "  }\n",
       "  table, th, td {\n",
       "    border: 1px solid black;\n",
       "    border-collapse: collapse;\n",
       "  }\n",
       "  th, td {\n",
       "    padding: 5px;\n",
       "  }\n",
       "  th {\n",
       "    text-align: left;\n",
       "  }\n",
       "</style><div class='table-result-container'><table class='table-result'><thead style='background-color: white'><tr><th>VendorID</th><th>dayofmonth(Pickup_datetime)</th><th>sum(Passenger_count)</th></tr></thead><tbody><tr><td>1</td><td>1</td><td>2734740</td></tr><tr><td>2</td><td>1</td><td>4711562</td></tr><tr><td>2</td><td>2</td><td>305</td></tr><tr><td>2</td><td>3</td><td>264</td></tr><tr><td>4</td><td>1</td><td>24941</td></tr></tbody></table></div>"
      ]
     },
     "metadata": {
      "application/vnd.databricks.v1+output": {
       "addedWidgets": {},
       "aggData": [],
       "aggError": "",
       "aggOverflow": false,
       "aggSchema": [],
       "aggSeriesLimitReached": false,
       "aggType": "",
       "arguments": {},
       "columnCustomDisplayInfos": {},
       "data": [
        [
         1,
         1,
         2734740
        ],
        [
         2,
         1,
         4711562
        ],
        [
         2,
         2,
         305
        ],
        [
         2,
         3,
         264
        ],
        [
         4,
         1,
         24941
        ]
       ],
       "datasetInfos": [],
       "dbfsResultPath": null,
       "isJsonSchema": true,
       "metadata": {},
       "overflow": false,
       "plotOptions": {
        "customPlotOptions": {},
        "displayType": "table",
        "pivotAggregation": null,
        "pivotColumns": null,
        "xColumns": null,
        "yColumns": null
       },
       "removedWidgets": [],
       "schema": [
        {
         "metadata": "{}",
         "name": "VendorID",
         "type": "\"integer\""
        },
        {
         "metadata": "{}",
         "name": "dayofmonth(Pickup_datetime)",
         "type": "\"integer\""
        },
        {
         "metadata": "{}",
         "name": "sum(Passenger_count)",
         "type": "\"long\""
        }
       ],
       "type": "table"
      }
     },
     "output_type": "display_data"
    }
   ],
   "source": [
    "# Get the report of total passenger count for each Vendor and each day\n",
    "vendor_daily_passenger_count_df = june_month_df.groupBy(\"VendorID\",dayofmonth(\"Pickup_datetime\")).sum(\"Passenger_count\").orderBy(\"VendorID\", dayofmonth(\"Pickup_datetime\"))\n",
    "\n",
    "vendor_daily_passenger_count_df.display()"
   ]
  },
  {
   "cell_type": "code",
   "execution_count": 0,
   "metadata": {
    "application/vnd.databricks.v1+cell": {
     "cellMetadata": {
      "byteLimit": 2048000,
      "rowLimit": 10000
     },
     "inputWidgets": {},
     "nuid": "000a328a-5432-464a-8894-f20b49fa365a",
     "showTitle": false,
     "title": ""
    }
   },
   "outputs": [],
   "source": [
    "\n",
    "# Save the results into DBFS location\n",
    "vendor_trip_count_df.write.csv(\"dbfs:/FileStore/tables/hemanth/nyctaxidata/stage3_spark/passcount_vendorday/vendor_trip_count\", header=True)\n",
    "vendor_trip_cost_df.write.csv(\"dbfs:/FileStore/tables/hemanth/nyctaxidata/stage3_spark/vendor_trip_cost\", header=True)\n",
    "vendor_passenger_count_df.write.csv(\"dbfs:/FileStore/tables/hemanth/nyctaxidata/stage3_spark/vendor_passenger_count\", header=True)\n",
    "vendor_trip_distance_df.write.csv(\"dbfs:/FileStore/tables/hemanth/nyctaxidata/stage3_spark/vendor_trip_distance\", header=True)\n",
    "daily_passenger_count_df.write.csv(\"dbfs:/FileStore/tables/hemanth/nyctaxidata/stage3_spark/daily_passenger_count\", header=True)\n",
    "vendor_daily_passenger_count_df.write.csv(\"dbfs:/FileStore/tables/hemanth/nyctaxidata/stage3_spark/vendor_daily_passenger_count\", header=True)\n"
   ]
  },
  {
   "cell_type": "code",
   "execution_count": 0,
   "metadata": {
    "application/vnd.databricks.v1+cell": {
     "cellMetadata": {},
     "inputWidgets": {},
     "nuid": "65c63dfe-be6b-4edc-b895-29f50887f8b6",
     "showTitle": false,
     "title": ""
    }
   },
   "outputs": [],
   "source": []
  }
 ],
 "metadata": {
  "application/vnd.databricks.v1+notebook": {
   "dashboards": [],
   "language": "python",
   "notebookMetadata": {
    "pythonIndentUnit": 4
   },
   "notebookName": "Yellow_Taxi_Data_Analysis_June_2019",
   "widgets": {}
  }
 },
 "nbformat": 4,
 "nbformat_minor": 0
}
